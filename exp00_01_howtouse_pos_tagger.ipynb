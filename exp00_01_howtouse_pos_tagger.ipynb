{
 "cells": [
  {
   "cell_type": "markdown",
   "metadata": {},
   "source": [
    "## 정말 간단한 의도분류 챗봇시스템을 만들어보자!\n",
    "### Prerequisite"
   ]
  },
  {
   "cell_type": "code",
   "execution_count": 1,
   "metadata": {},
   "outputs": [
    {
     "name": "stdout",
     "output_type": "stream",
     "text": [
      "Collecting jpype1\n",
      "\u001b[?25l  Downloading https://files.pythonhosted.org/packages/c4/4b/60a3e63d51714d4d7ef1b1efdf84315d118a0a80a5b085bb52a7e2428cdc/JPype1-0.6.3.tar.gz (168kB)\n",
      "\u001b[K    100% |████████████████████████████████| 174kB 270kB/s ta 0:00:01\n",
      "\u001b[?25hBuilding wheels for collected packages: jpype1\n",
      "  Running setup.py bdist_wheel for jpype1 ... \u001b[?25ldone\n",
      "\u001b[?25h  Stored in directory: /Users/user/Library/Caches/pip/wheels/0e/2b/e8/c0b818ac4b3d35104d35e48cdc7afe27fc06ea277feed2831a\n",
      "Successfully built jpype1\n",
      "Installing collected packages: jpype1\n",
      "Successfully installed jpype1-0.6.3\n"
     ]
    }
   ],
   "source": [
    "!pip install jpype1"
   ]
  },
  {
   "cell_type": "code",
   "execution_count": 2,
   "metadata": {},
   "outputs": [
    {
     "name": "stdout",
     "output_type": "stream",
     "text": [
      "Collecting konlpy\n",
      "\u001b[?25l  Downloading https://files.pythonhosted.org/packages/b1/41/73127de031d710fa6fc640cc4d4d399977e7a96423131fcd180b9f69627c/konlpy-0.4.4-py2.py3-none-any.whl (22.5MB)\n",
      "\u001b[K    100% |████████████████████████████████| 22.5MB 1.1MB/s ta 0:00:011\n",
      "\u001b[?25hInstalling collected packages: konlpy\n",
      "Successfully installed konlpy-0.4.4\n"
     ]
    }
   ],
   "source": [
    "!pip install konlpy"
   ]
  },
  {
   "cell_type": "markdown",
   "metadata": {},
   "source": [
    "- Twitter : https://github.com/twitter/twitter-korean-text\n",
    "- Java SE Install : http://www.oracle.com/technetwork/java/javase/downloads/jdk10-downloads-4416644.html"
   ]
  },
  {
   "cell_type": "code",
   "execution_count": 1,
   "metadata": {},
   "outputs": [],
   "source": [
    "import pandas as pd\n",
    "from konlpy.tag import Twitter\n",
    "from pprint import pprint"
   ]
  },
  {
   "cell_type": "code",
   "execution_count": 4,
   "metadata": {},
   "outputs": [
    {
     "data": {
      "text/plain": [
       "[('오늘', 'Noun'),\n",
       " ('점심', 'Noun'),\n",
       " ('은', 'Josa'),\n",
       " ('뭐', 'Noun'),\n",
       " ('야', 'Josa'),\n",
       " ('?', 'Punctuation')]"
      ]
     },
     "execution_count": 4,
     "metadata": {},
     "output_type": "execute_result"
    }
   ],
   "source": [
    "twt = Twitter()\n",
    "stmt = \"오늘 점심은 뭐야?\"\n",
    "twt.pos(stmt, norm=True, stem=True)"
   ]
  },
  {
   "cell_type": "markdown",
   "metadata": {},
   "source": [
    "in twitter:\n",
    "- 정규화 normalization (입니닼ㅋㅋ -> 입니다 ㅋㅋ, 샤릉해 -> 사랑해)\n",
    "- 어근화 stemming (입니다 -> 이다)"
   ]
  },
  {
   "cell_type": "markdown",
   "metadata": {},
   "source": [
    "### Token Preprocessing"
   ]
  },
  {
   "cell_type": "code",
   "execution_count": 9,
   "metadata": {},
   "outputs": [],
   "source": [
    "def pos_processing(sentence):\n",
    "    ret = [token + '/' + tag  for token, tag in twt.pos(sentence, norm=True, stem=True)]\n",
    "    return ret"
   ]
  },
  {
   "cell_type": "code",
   "execution_count": 8,
   "metadata": {},
   "outputs": [
    {
     "data": {
      "text/plain": [
       "['오늘/Noun', '점심/Noun', '은/Josa', '뭐/Noun', '야/Josa', '?/Punctuation']"
      ]
     },
     "execution_count": 8,
     "metadata": {},
     "output_type": "execute_result"
    }
   ],
   "source": [
    "pos_processing(stmt)"
   ]
  },
  {
   "cell_type": "code",
   "execution_count": 10,
   "metadata": {},
   "outputs": [],
   "source": [
    "def pos_processing(sentence):\n",
    "    ret = [token + '/' + tag  for token, tag in twt.pos(sentence, norm=True, stem=True) if tag not in ['Exclamation', 'Punctuation', 'Josa', 'KoreanParticle']]\n",
    "    return ret"
   ]
  },
  {
   "cell_type": "code",
   "execution_count": 11,
   "metadata": {},
   "outputs": [
    {
     "data": {
      "text/plain": [
       "['오늘/Noun', '점심/Noun', '뭐/Noun']"
      ]
     },
     "execution_count": 11,
     "metadata": {},
     "output_type": "execute_result"
    }
   ],
   "source": [
    "pos_processing(stmt)"
   ]
  },
  {
   "cell_type": "code",
   "execution_count": null,
   "metadata": {},
   "outputs": [],
   "source": []
  }
 ],
 "metadata": {
  "kernelspec": {
   "display_name": "Python 3",
   "language": "python",
   "name": "python3"
  },
  "language_info": {
   "codemirror_mode": {
    "name": "ipython",
    "version": 3
   },
   "file_extension": ".py",
   "mimetype": "text/x-python",
   "name": "python",
   "nbconvert_exporter": "python",
   "pygments_lexer": "ipython3",
   "version": "3.6.5"
  }
 },
 "nbformat": 4,
 "nbformat_minor": 2
}
